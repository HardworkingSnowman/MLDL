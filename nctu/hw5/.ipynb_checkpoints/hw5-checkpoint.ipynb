{
 "cells": [
  {
   "cell_type": "markdown",
   "metadata": {},
   "source": [
    "# HW4 - Linear Regression\n",
    "##### 負責助教：張逸群 toosyou.tw@gmail.com\n",
    "## 評分標準\n",
    "### 原始分數\n",
    "* 上課繳交：20%\n",
    "    * 在當天 16:20 前上傳至 new E3 作業，請將以下打包成 .zip 上傳：\n",
    "        * 程式原始檔 (.ipynb）\n",
    "        * 程式 .html 檔\n",
    "    * 並填寫表單上傳程式執行結果\n",
    "        * 請上傳 .html 檔案至表單\n",
    "        * __請統一檔名 <學號>-<姓名>.html__\n",
    "        * [表單連結](https://docs.google.com/forms/d/e/1FAIpQLSdlbNU_u9kb1QpCdXsgX42gx6UcRYCtVnX4E0xVlkjYyEOgug/viewform)\n",
    "* 程式分數：80%\n",
    "\n",
    "### 調整分數\n",
    "* 你的調整分數 = (你的原始分數 - 全部人原始分數平均) x (15. / 全部人原始分數標準差) + 80."
   ]
  },
  {
   "cell_type": "markdown",
   "metadata": {},
   "source": [
    "#### 姓名：林哲宇\n",
    "#### 學號：0616018"
   ]
  },
  {
   "cell_type": "markdown",
   "metadata": {},
   "source": [
    "## Packages that Might Be Used"
   ]
  },
  {
   "cell_type": "code",
   "execution_count": 3,
   "metadata": {},
   "outputs": [],
   "source": [
    "import numpy as np\n",
    "import matplotlib.pyplot as plt\n",
    "import sklearn\n",
    "from sklearn.preprocessing import PolynomialFeatures\n",
    "from sklearn.linear_model import LinearRegression, SGDRegressor\n",
    "from sklearn.pipeline import Pipeline\n",
    "\n",
    "%matplotlib inline"
   ]
  },
  {
   "cell_type": "markdown",
   "metadata": {},
   "source": [
    "## Load Data - 20%\n",
    "\n",
    "#### 請使用 [np.load](https://docs.scipy.org/doc/numpy/reference/generated/numpy.load.html) 分別將 `X.npy` 和 `y.npy` 讀入到 `X` 和 `y` - 10%"
   ]
  },
  {
   "cell_type": "code",
   "execution_count": 14,
   "metadata": {},
   "outputs": [
    {
     "name": "stdout",
     "output_type": "stream",
     "text": [
      "((100, 1), (100,))\n"
     ]
    }
   ],
   "source": [
    "X = np.load('X.npy')\n",
    "y = np.load('y.npy')\n",
    "\n",
    "print(X.shape, y.shape)"
   ]
  },
  {
   "cell_type": "markdown",
   "metadata": {},
   "source": [
    "##### 此組資料共有 100 個點，各點座標為 `(X0, y0), (X1, y1)... (X99, y99)`，而 `X = [X0, X1, ... X99]`，`y = [y0, y1, ... y99]`"
   ]
  },
  {
   "cell_type": "markdown",
   "metadata": {},
   "source": [
    "#### 請使用 `plt.scatter` 將 100 個點畫出 - 10%"
   ]
  },
  {
   "cell_type": "code",
   "execution_count": 16,
   "metadata": {},
   "outputs": [
    {
     "data": {
      "image/png": "[encoded data removed]",
      "text/plain": [
       "<Figure size 1440x360 with 1 Axes>"
      ]
     },
     "metadata": {
      "needs_background": "light"
     },
     "output_type": "display_data"
    }
   ],
   "source": [
    "plt.figure(figsize=(20, 5))\n",
    "plt.scatter(X, y)\n",
    "plt.show()"
   ]
  },
  {
   "cell_type": "markdown",
   "metadata": {},
   "source": [
    "## Curve Fitting (1/2) - 30%"
   ]
  },
  {
   "cell_type": "markdown",
   "metadata": {},
   "source": [
    "#### 請使用 `sklearn.linear_model.LinearRegression` 對 `X` 和 `y` 進行訓練 - 10%"
   ]
  },
  {
   "cell_type": "code",
   "execution_count": 21,
   "metadata": {},
   "outputs": [],
   "source": [
    "reg = LinearRegression().fit(X, y)"
   ]
  },
  {
   "cell_type": "markdown",
   "metadata": {},
   "source": [
    "#### 將 `X` 從 -4 至 4 的預測曲線與原始資料（scatter）同時畫出 - 10%\n",
    "* [hint](https://matplotlib.org/gallery/lines_bars_and_markers/simple_plot.html)"
   ]
  },
  {
   "cell_type": "code",
   "execution_count": 27,
   "metadata": {},
   "outputs": [
    {
     "data": {
      "text/plain": [
       "[<matplotlib.lines.Line2D at 0x7f2d402f9b10>]"
      ]
     },
     "execution_count": 27,
     "metadata": {},
     "output_type": "execute_result"
    },
    {
     "data": {
      "image/png": "[encoded data removed]",
      "text/plain": [
       "<Figure size 1440x360 with 1 Axes>"
      ]
     },
     "metadata": {
      "needs_background": "light"
     },
     "output_type": "display_data"
    }
   ],
   "source": [
    "plt.figure(figsize=(20, 5))\n",
    "plt.scatter(X, y)\n",
    "\n",
    "plot_X = np.arange(-4, 4, 0.01).reshape(-1, 1)\n",
    "plt.plot(plot_X, reg.predict(plot_X), color='red')"
   ]
  },
  {
   "cell_type": "markdown",
   "metadata": {},
   "source": [
    "#### 請簡述為什麼上圖的紅線預測曲線為一直線？ - 5%\n",
    "* 因為我們拿 testing data 去 predict"
   ]
  },
  {
   "cell_type": "markdown",
   "metadata": {},
   "source": [
    "#### 請將 Linear Regression 的 `coef_` 印出，並解釋其意義 - 5%\n",
    "* [hint](https://scikit-learn.org/stable/modules/generated/sklearn.linear_model.LinearRegression.html#sklearn.linear_model.LinearRegression.score)"
   ]
  },
  {
   "cell_type": "code",
   "execution_count": 28,
   "metadata": {},
   "outputs": [
    {
     "data": {
      "text/plain": [
       "array([0.10200816])"
      ]
     },
     "execution_count": 28,
     "metadata": {},
     "output_type": "execute_result"
    }
   ],
   "source": [
    "reg.coef_"
   ]
  },
  {
   "cell_type": "markdown",
   "metadata": {},
   "source": [
    "* 預測曲線的斜率"
   ]
  },
  {
   "cell_type": "markdown",
   "metadata": {},
   "source": [
    "## Curve Fitting (2/2) - 50%"
   ]
  },
  {
   "cell_type": "markdown",
   "metadata": {},
   "source": [
    "#### 為了做到更好的擬合效果，請先定義一 [Pipeline](https://scikit-learn.org/stable/modules/generated/sklearn.pipeline.Pipeline.html)，其包含以下步驟：\n",
    "1. [PolynomialFeatures](https://scikit-learn.org/stable/modules/generated/sklearn.preprocessing.PolynomialFeatures.html) - 其中參數 `degree = 8`\n",
    "2. LinearRegression\n",
    "\n",
    "#### 並使用此 `Pipeline` 對 `X` 和 `y` 進行訓練 - 15%\n",
    "* hint  \n",
    "![hint](https://img-blog.csdn.net/20160115095855517)"
   ]
  },
  {
   "cell_type": "code",
   "execution_count": 30,
   "metadata": {},
   "outputs": [
    {
     "name": "stdout",
     "output_type": "stream",
     "text": [
      "Pipeline(memory=None,\n",
      "     steps=[('poly', PolynomialFeatures(degree=8, include_bias=True, interaction_only=False)), ('clf', LinearRegression(copy_X=True, fit_intercept=True, n_jobs=None,\n",
      "         normalize=False))])\n"
     ]
    }
   ],
   "source": [
    "pipeline = Pipeline(\n",
    "    memory=None,\n",
    "     steps=[('poly', PolynomialFeatures(degree=8, include_bias=True, interaction_only=False)), ('clf', LinearRegression(copy_X=True, fit_intercept=True, n_jobs=None,\n",
    "         normalize=False))]\n",
    ")\n",
    "\n",
    "print(pipeline)"
   ]
  },
  {
   "cell_type": "markdown",
   "metadata": {},
   "source": [
    "#### 之後使用此 `Pipeline` 將 `X` 從 -4 至 4 的預測曲線與原始資料（scatter）同時畫出 - 10%"
   ]
  },
  {
   "cell_type": "code",
   "execution_count": 35,
   "metadata": {},
   "outputs": [
    {
     "data": {
      "text/plain": [
       "[<matplotlib.lines.Line2D at 0x7f2d3df3acd0>]"
      ]
     },
     "execution_count": 35,
     "metadata": {},
     "output_type": "execute_result"
    },
    {
     "data": {
      "image/png": "[encoded data removed]",
      "text/plain": [
       "<Figure size 1440x360 with 1 Axes>"
      ]
     },
     "metadata": {
      "needs_background": "light"
     },
     "output_type": "display_data"
    }
   ],
   "source": [
    "plt.figure(figsize=(20, 5))\n",
    "plt.scatter(X, y)\n",
    "\n",
    "pipeline.fit(X, y)\n",
    "plot_X = np.arange(-4, 4, 0.01).reshape(-1, 1)\n",
    "plt.plot(plot_X, pipeline.predict(plot_X), color='red')"
   ]
  },
  {
   "cell_type": "markdown",
   "metadata": {},
   "source": [
    "#### 使用 `pipeline` 印出 Prediction Score - 0%"
   ]
  },
  {
   "cell_type": "code",
   "execution_count": 56,
   "metadata": {},
   "outputs": [
    {
     "name": "stdout",
     "output_type": "stream",
     "text": [
      "('Prediction score:', 0.9772100048002959)\n",
      "[ 0.00000000e+00  9.66162254e-01 -4.14835999e-03 -1.53700587e-01\n",
      "  3.16146625e-03  6.40975838e-03 -5.53008486e-04 -8.55171283e-05\n",
      "  2.48812895e-05]\n"
     ]
    }
   ],
   "source": [
    "print('Prediction score:', pipeline.score(X, y))"
   ]
  },
  {
   "cell_type": "markdown",
   "metadata": {},
   "source": [
    "#### 請簡述下列問題 - 15%\n",
    "\n",
    "1. `PolynomialFeatures` 做了什麼事情？`PolynomialFeatures(8).fit_transform([[2]])`的結果為何？ - 5%\n",
    "    * (1) 把每個將要輸入的參數在最多有 degree 個參數的組合的範圍內窮舉所有可能組合\n",
    "    * (2) [[  1.   2.   4.   8.  16.  32.  64. 128. 256.]]\n",
    "2. 使用此 `Pipeline` 所預測的曲線為何？請以曲線方程式表示 - 5%\n",
    "    * y = f(x) = 0.0000248812895 * X^8 + -0.0000855171283 * X^7 + -0.000553008486 * X^6 + 0.00640975838 * X^5 + 0.00316146625 * X^4 + -0.153700587 * X^3 + -0.00414835999 * X^2 + 0.966162254 * X + 0 * X^0\n",
    "3. 在此 regression 問題中，請問 prediction score 的意義為何？為什麼不使用 accuracy 作為 score？ - 5%\n",
    "    * (1) 回歸曲線的相關係數\n",
    "    * (2) 因為預測出來的曲線是找出相關係數最高的曲線，所以點幾乎不會在預測出來的線上"
   ]
  },
  {
   "cell_type": "markdown",
   "metadata": {},
   "source": [
    "## 恭喜完成 - ふわふわ時間"
   ]
  },
  {
   "cell_type": "markdown",
   "metadata": {},
   "source": [
    "![ひとりぼっちの○○生活](https://66.media.tumblr.com/265f74467c1fc0bffeb87d689224e1e5/tumblr_ppi3ytBST81qz64n4o1_500.gif)  \n",
    "![世話やきキツネの仙狐さん](https://images2.gamme.com.tw/news2/2019/22/72/qJeWoqaemKSXsKU.gif)  \n",
    "![mugi](http://i.imgur.com/V34BvRo.gif)  "
   ]
  },
  {
   "cell_type": "markdown",
   "metadata": {},
   "source": [
    "## Ｕ沒Ｕ想對助教教說ㄉ話 <3"
   ]
  },
  {
   "cell_type": "markdown",
   "metadata": {},
   "source": [
    "* ans"
   ]
  },
  {
   "cell_type": "code",
   "execution_count": null,
   "metadata": {},
   "outputs": [],
   "source": [
    "辛苦了XD"
   ]
  }
 ],
 "metadata": {
  "kernelspec": {
   "display_name": "Python 2",
   "language": "python",
   "name": "python2"
  },
  "language_info": {
   "codemirror_mode": {
    "name": "ipython",
    "version": 2
   },
   "file_extension": ".py",
   "mimetype": "text/x-python",
   "name": "python",
   "nbconvert_exporter": "python",
   "pygments_lexer": "ipython2",
   "version": "2.7.15rc1"
  }
 },
 "nbformat": 4,
 "nbformat_minor": 2
}

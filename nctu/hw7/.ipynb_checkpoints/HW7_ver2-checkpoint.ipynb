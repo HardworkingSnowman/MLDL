{
 "cells": [
  {
   "cell_type": "markdown",
   "metadata": {},
   "source": [
    "# HW7 - Keras for MNIST\n",
    "##### 負責助教：王培霖 barry84090371@gmail.com\n",
    "\n",
    "## Data - Modified National Institute of Standards and Technology(MNIST) database \n",
    "* Number of Instances: 60000\n",
    "* Number of Attributes: 28 * 28 numbers, which is bounded by [0,255] \n",
    "\n",
    "## 評分標準\n",
    "### 原始分數\n",
    "* 上課繳交：20%\n",
    "    * 在當天 16:20 前上傳至 new E3 作業，請將以下打包成 .zip 上傳：\n",
    "        * 程式原始檔 (.ipynb）\n",
    "        * 程式 .html 檔\n",
    "    * 並填寫表單上傳程式執行結果\n",
    "        * 請上傳 .html 檔案至表單\n",
    "        * __請統一檔名 <學號>-<姓名>.html__\n",
    "        * [表單連結](https://docs.google.com/forms/d/e/1FAIpQLSdlbNU_u9kb1QpCdXsgX42gx6UcRYCtVnX4E0xVlkjYyEOgug/viewform)\n",
    "* 程式分數：80%\n",
    "\n",
    "### 調整分數\n",
    "* 你的調整分數 = (你的原始分數 - 全部人原始分數平均) x (15. / 全部人原始分數標準差) + 80.\n",
    "\n",
    "* 學號 : 0616018\n",
    "* 姓名 : 林哲宇\n",
    "\n",
    "## Packages that Might Be Used"
   ]
  },
  {
   "cell_type": "code",
   "execution_count": 35,
   "metadata": {},
   "outputs": [
    {
     "name": "stdout",
     "output_type": "stream",
     "text": [
      "[name: \"/device:CPU:0\"\n",
      "device_type: \"CPU\"\n",
      "memory_limit: 268435456\n",
      "locality {\n",
      "}\n",
      "incarnation: 11446356561235395906\n",
      ", name: \"/device:XLA_CPU:0\"\n",
      "device_type: \"XLA_CPU\"\n",
      "memory_limit: 17179869184\n",
      "locality {\n",
      "}\n",
      "incarnation: 12788887482836595747\n",
      "physical_device_desc: \"device: XLA_CPU device\"\n",
      "]\n"
     ]
    }
   ],
   "source": [
    "import keras\n",
    "from keras.datasets import mnist\n",
    "from keras.models import Sequential\n",
    "from keras.layers import Dense, Dropout, LeakyReLU, Conv2D, Flatten, MaxPooling2D, Activation\n",
    "from keras.optimizers import RMSprop\n",
    "from keras import backend as K\n",
    "K.tensorflow_backend._get_available_gpus()\n",
    "from matplotlib.pyplot import imshow\n",
    "import numpy as np\n",
    "from tensorflow.python.client import device_lib\n",
    "print(device_lib.list_local_devices())"
   ]
  },
  {
   "cell_type": "markdown",
   "metadata": {},
   "source": [
    "## Data Preprocessing - 30%\n",
    "\n",
    "#### 助教幫你們吃進來，並且印出第十張 ------- 0%"
   ]
  },
  {
   "cell_type": "code",
   "execution_count": 36,
   "metadata": {},
   "outputs": [
    {
     "data": {
      "text/plain": [
       "<matplotlib.image.AxesImage at 0x7ffa8e43bac8>"
      ]
     },
     "execution_count": 36,
     "metadata": {},
     "output_type": "execute_result"
    },
    {
     "data": {
      "image/png": "[encoded data removed]",
      "text/plain": [
       "<Figure size 432x288 with 1 Axes>"
      ]
     },
     "metadata": {
      "needs_background": "light"
     },
     "output_type": "display_data"
    }
   ],
   "source": [
    "(X_train, y_train), (X_test, y_test) = mnist.load_data()\n",
    "\n",
    "imshow(X_train[9])"
   ]
  },
  {
   "cell_type": "markdown",
   "metadata": {},
   "source": [
    "#### 1.使用shape函式印出x_train及x_test的大小 -------- 10%"
   ]
  },
  {
   "cell_type": "code",
   "execution_count": 37,
   "metadata": {},
   "outputs": [
    {
     "name": "stdout",
     "output_type": "stream",
     "text": [
      "(60000, 28, 28)\n",
      "(10000, 28, 28)\n"
     ]
    }
   ],
   "source": [
    "print(X_train.shape)\n",
    "print(X_test.shape)"
   ]
  },
  {
   "cell_type": "markdown",
   "metadata": {},
   "source": [
    "#### 2.使用reshape函式將x_train及x_test變為答案表示的樣子 -------- 10%"
   ]
  },
  {
   "cell_type": "code",
   "execution_count": 38,
   "metadata": {},
   "outputs": [
    {
     "name": "stdout",
     "output_type": "stream",
     "text": [
      "(60000, 784)\n",
      "(10000, 784)\n"
     ]
    }
   ],
   "source": [
    "X_train = X_train.reshape(60000, 784)\n",
    "X_test = X_test.reshape(10000, 784)\n",
    "print(X_train.shape)\n",
    "print(X_test.shape)"
   ]
  },
  {
   "cell_type": "markdown",
   "metadata": {},
   "source": [
    "#### 3.使用keras內建的onehot encoding將y_train及y_test變為binary的形式 -------- 10%    "
   ]
  },
  {
   "cell_type": "code",
   "execution_count": 39,
   "metadata": {},
   "outputs": [],
   "source": [
    "y_train_onehot = keras.utils.to_categorical(y_train)\n",
    "y_test_onehot = keras.utils.to_categorical(y_test)"
   ]
  },
  {
   "cell_type": "code",
   "execution_count": 40,
   "metadata": {},
   "outputs": [
    {
     "name": "stdout",
     "output_type": "stream",
     "text": [
      "[0. 0. 0. 0. 0. 1. 0. 0. 0. 0.]\n"
     ]
    }
   ],
   "source": [
    "print(y_train_onehot[0])"
   ]
  },
  {
   "cell_type": "markdown",
   "metadata": {},
   "source": [
    "![123](https://img-blog.csdn.net/20181020204437937?watermark/2/text/aHR0cHM6Ly9ibG9nLmNzZG4ubmV0L21veXUxMjM0NTY3ODk=/font/5a6L5L2T/fontsize/400/fill/I0JBQkFCMA==/dissolve/70)\n",
    "## Building NN - 30%\n",
    "\n",
    "#### 1. 建立一個類神經網路，其中：\n",
    "    (1)input為784元\n",
    "\n",
    "    (2)中間有兩層hidden layer，neuron數量都為20\n",
    "\n",
    "    (3)最後一層output為10元，active function請使用softmax\n",
    "\n",
    "    (4)最後使用summary函式來確認建好的NN模型\n",
    "    \n",
    "    p.s. 如果直接用LeakyReLU當參數丟進去時，會多兩層LeakyReLU是正常現象~\n",
    "\n",
    "Hint:\n",
    "\n",
    "[keras nn使用方法](https://keras.io/zh/getting-started/sequential-model-guide/)\n",
    "\n",
    "[keras激活函數](https://keras.io/zh/activations/#_3)"
   ]
  },
  {
   "cell_type": "code",
   "execution_count": 41,
   "metadata": {},
   "outputs": [
    {
     "name": "stdout",
     "output_type": "stream",
     "text": [
      "_________________________________________________________________\n",
      "Layer (type)                 Output Shape              Param #   \n",
      "=================================================================\n",
      "dense_14 (Dense)             (None, 20)                15700     \n",
      "_________________________________________________________________\n",
      "dense_15 (Dense)             (None, 20)                420       \n",
      "_________________________________________________________________\n",
      "dense_16 (Dense)             (None, 10)                210       \n",
      "=================================================================\n",
      "Total params: 16,330\n",
      "Trainable params: 16,330\n",
      "Non-trainable params: 0\n",
      "_________________________________________________________________\n"
     ]
    }
   ],
   "source": [
    "model = Sequential([\n",
    "    Dense(20, input_shape=(784,)),\n",
    "    Dense(20, input_shape=(21,)),\n",
    "    Dense(10, input_shape=(21,))\n",
    "])\n",
    "model.summary()\n"
   ]
  },
  {
   "cell_type": "markdown",
   "metadata": {},
   "source": [
    "#### 2. 建好神經網路後，我們便要訓練我們的模型\n",
    "    (1)請先compile你的模型，使其變為可訓練，其中loss設為categorical_crossentropy，optimizer設為RMSprop()，metrics設為accuracy\n",
    "\n",
    "    (2)接著請fit你的模型，其中batch_size設為128，epochs數量先設為10，verbose設為1，validation_split設為0.2\n",
    "\n",
    "Hint:\n",
    "\n",
    "[Compile 和 fit 使用方法及參數調整](https://keras.io/zh/models/sequential/)"
   ]
  },
  {
   "cell_type": "code",
   "execution_count": 42,
   "metadata": {},
   "outputs": [
    {
     "data": {
      "text/plain": [
       "'Your code here'"
      ]
     },
     "execution_count": 42,
     "metadata": {},
     "output_type": "execute_result"
    }
   ],
   "source": [
    "#Compile part\n",
    "'''Your code here'''\n",
    "#fit part\n",
    "'''Your code here'''"
   ]
  },
  {
   "cell_type": "markdown",
   "metadata": {},
   "source": [
    "#### 3. 建好的模型在test data的表現"
   ]
  },
  {
   "cell_type": "code",
   "execution_count": 43,
   "metadata": {},
   "outputs": [
    {
     "ename": "RuntimeError",
     "evalue": "You must compile a model before training/testing. Use `model.compile(optimizer, loss)`.",
     "output_type": "error",
     "traceback": [
      "\u001b[0;31m---------------------------------------------------------------------------\u001b[0m",
      "\u001b[0;31mRuntimeError\u001b[0m                              Traceback (most recent call last)",
      "\u001b[0;32m<ipython-input-43-89274150e581>\u001b[0m in \u001b[0;36m<module>\u001b[0;34m\u001b[0m\n\u001b[0;32m----> 1\u001b[0;31m \u001b[0mscores\u001b[0m \u001b[0;34m=\u001b[0m \u001b[0mmodel\u001b[0m\u001b[0;34m.\u001b[0m\u001b[0mevaluate\u001b[0m\u001b[0;34m(\u001b[0m\u001b[0mX_test\u001b[0m\u001b[0;34m,\u001b[0m \u001b[0my_test_onehot\u001b[0m\u001b[0;34m)\u001b[0m\u001b[0;34m\u001b[0m\u001b[0;34m\u001b[0m\u001b[0m\n\u001b[0m\u001b[1;32m      2\u001b[0m \u001b[0mprint\u001b[0m\u001b[0;34m(\u001b[0m\u001b[0;34m'acc:'\u001b[0m\u001b[0;34m,\u001b[0m\u001b[0mscores\u001b[0m\u001b[0;34m[\u001b[0m\u001b[0;36m1\u001b[0m\u001b[0;34m]\u001b[0m\u001b[0;34m)\u001b[0m\u001b[0;34m\u001b[0m\u001b[0;34m\u001b[0m\u001b[0m\n",
      "\u001b[0;32m/usr/local/lib/python3.6/dist-packages/keras/engine/training.py\u001b[0m in \u001b[0;36mevaluate\u001b[0;34m(self, x, y, batch_size, verbose, sample_weight, steps)\u001b[0m\n\u001b[1;32m   1100\u001b[0m             \u001b[0mx\u001b[0m\u001b[0;34m,\u001b[0m \u001b[0my\u001b[0m\u001b[0;34m,\u001b[0m\u001b[0;34m\u001b[0m\u001b[0;34m\u001b[0m\u001b[0m\n\u001b[1;32m   1101\u001b[0m             \u001b[0msample_weight\u001b[0m\u001b[0;34m=\u001b[0m\u001b[0msample_weight\u001b[0m\u001b[0;34m,\u001b[0m\u001b[0;34m\u001b[0m\u001b[0;34m\u001b[0m\u001b[0m\n\u001b[0;32m-> 1102\u001b[0;31m             batch_size=batch_size)\n\u001b[0m\u001b[1;32m   1103\u001b[0m         \u001b[0;31m# Prepare inputs, delegate logic to `test_loop`.\u001b[0m\u001b[0;34m\u001b[0m\u001b[0;34m\u001b[0m\u001b[0;34m\u001b[0m\u001b[0m\n\u001b[1;32m   1104\u001b[0m         \u001b[0;32mif\u001b[0m \u001b[0mself\u001b[0m\u001b[0;34m.\u001b[0m\u001b[0m_uses_dynamic_learning_phase\u001b[0m\u001b[0;34m(\u001b[0m\u001b[0;34m)\u001b[0m\u001b[0;34m:\u001b[0m\u001b[0;34m\u001b[0m\u001b[0;34m\u001b[0m\u001b[0m\n",
      "\u001b[0;32m/usr/local/lib/python3.6/dist-packages/keras/engine/training.py\u001b[0m in \u001b[0;36m_standardize_user_data\u001b[0;34m(self, x, y, sample_weight, class_weight, check_array_lengths, batch_size)\u001b[0m\n\u001b[1;32m    679\u001b[0m         \u001b[0;32mif\u001b[0m \u001b[0my\u001b[0m \u001b[0;32mis\u001b[0m \u001b[0;32mnot\u001b[0m \u001b[0;32mNone\u001b[0m\u001b[0;34m:\u001b[0m\u001b[0;34m\u001b[0m\u001b[0;34m\u001b[0m\u001b[0m\n\u001b[1;32m    680\u001b[0m             \u001b[0;32mif\u001b[0m \u001b[0;32mnot\u001b[0m \u001b[0mself\u001b[0m\u001b[0;34m.\u001b[0m\u001b[0moptimizer\u001b[0m\u001b[0;34m:\u001b[0m\u001b[0;34m\u001b[0m\u001b[0;34m\u001b[0m\u001b[0m\n\u001b[0;32m--> 681\u001b[0;31m                 raise RuntimeError('You must compile a model before '\n\u001b[0m\u001b[1;32m    682\u001b[0m                                    \u001b[0;34m'training/testing. '\u001b[0m\u001b[0;34m\u001b[0m\u001b[0;34m\u001b[0m\u001b[0m\n\u001b[1;32m    683\u001b[0m                                    'Use `model.compile(optimizer, loss)`.')\n",
      "\u001b[0;31mRuntimeError\u001b[0m: You must compile a model before training/testing. Use `model.compile(optimizer, loss)`."
     ]
    }
   ],
   "source": [
    "scores = model.evaluate(X_test, y_test_onehot)\n",
    "print('acc:',scores[1])"
   ]
  },
  {
   "cell_type": "markdown",
   "metadata": {},
   "source": [
    "## Building CNN - 30%\n",
    "\n",
    "#### 1. 建立一個類神經網路，其中：\n",
    "    (1)input為(60000,28,28,1)，所以各位要先把資料reshape成需要的格式\n",
    "\n",
    "    (2)中間的層數請看範例，一層一層疊上去\n",
    "\n",
    "    (3)其中卷積層filter=16, kernel_size=(3,3), padding='same', input_shape(28,28,1), actication幫我設relu\n",
    "\n",
    "    (4)Maxpooling size 為 (2,2)\n",
    "    \n",
    "    (5)dropout 0.25\n",
    "    \n",
    "    (6)做完卷積層要記得flatten，走NN，其中neuron數量為128，activation幫我設relu\n",
    "    \n",
    "    (7)dropout 0.5\n",
    "    \n",
    "    (8)output layer一樣單元數為10，activation function幫我設softmax\n",
    "\n",
    "Hint:\n",
    "\n",
    "[MaxPooling2D](https://keras.io/zh/layers/pooling/)\n",
    "\n",
    "[Conv2D](https://keras.io/zh/layers/convolutional/)"
   ]
  },
  {
   "cell_type": "code",
   "execution_count": null,
   "metadata": {},
   "outputs": [],
   "source": [
    "x_train = x_train.reshape(60000,28,28,1)\n",
    "x_test = x_test.reshape(10000,28,28,1)\n",
    "\n",
    "model = Sequential()  \n",
    "\n",
    "# Create CN layer 1  \n",
    "'''Your code here'''\n",
    "\n",
    "# Create Max-Pool 1  \n",
    "'''Your code here''' \n",
    "  \n",
    "# Add Dropout layer  \n",
    "'''Your code here''' \n",
    "\n",
    "#Add Flatten Layer\n",
    "'''Your code here'''\n",
    "\n",
    "#Add NN Layer\n",
    "'''Your code here'''\n",
    "\n",
    "# Add Dropout layer  \n",
    "'''Your code here''' \n",
    "\n",
    "#Add Output Layer \n",
    "'''Your code here''' \n",
    "\n",
    "model.summary()  "
   ]
  },
  {
   "cell_type": "markdown",
   "metadata": {},
   "source": [
    "#### 2. 建好神經網路後，我們便要訓練我們的模型\n",
    "    (1)請先compile你的模型，使其變為可訓練，其中loss設為categorical_crossentropy，optimizer設為adam，metrics設為accuracy\n",
    "\n",
    "    (2)接著請fit你的模型，其中batch_size設為128，epochs數量先設為10，verbose設為1，validation_split設為0.2\n",
    "\n",
    "Hint:\n",
    "\n",
    "[Compile 和 fit 使用方法及參數調整](https://keras.io/zh/models/sequential/)"
   ]
  },
  {
   "cell_type": "code",
   "execution_count": null,
   "metadata": {},
   "outputs": [],
   "source": [
    "# Compile Part \n",
    "'''Your code here''' \n",
    "  \n",
    "# Fit part \n",
    "'''Your code here''' "
   ]
  },
  {
   "cell_type": "markdown",
   "metadata": {},
   "source": [
    "#### 3. 建好的模型在test data的表現"
   ]
  },
  {
   "cell_type": "code",
   "execution_count": null,
   "metadata": {},
   "outputs": [],
   "source": [
    "scores = model.evaluate(X_test_cnn, y_test_onehot)\n",
    "print('acc:',scores[1])"
   ]
  },
  {
   "cell_type": "markdown",
   "metadata": {},
   "source": [
    "# Result\n",
    "助教幫你們把Confusion matrix印出來"
   ]
  },
  {
   "cell_type": "code",
   "execution_count": null,
   "metadata": {},
   "outputs": [],
   "source": [
    "prediction = model.predict_classes(X_test_cnn)\n",
    "import pandas as pd  \n",
    "print(\"\\t[Info] Display Confusion Matrix:\")  \n",
    "print(\"%s\\n\" % pd.crosstab(y_test, prediction, rownames=['label'], colnames=['predict'])) "
   ]
  },
  {
   "cell_type": "markdown",
   "metadata": {},
   "source": [
    "# BONUS - 10%\n",
    "## test data acc達到99.5以上，助教給你加分分\n",
    "## 恭喜各位寫完全部的作業，但別忘記還有期末專題歐~\n",
    "\n",
    "![一個人](https://i.imgur.com/yrZnaCR.gif)\n",
    "# 上課心得or給助教的話XD\n",
    "* ans"
   ]
  },
  {
   "cell_type": "code",
   "execution_count": null,
   "metadata": {},
   "outputs": [],
   "source": []
  }
 ],
 "metadata": {
  "kernelspec": {
   "display_name": "Python 3",
   "language": "python",
   "name": "python3"
  },
  "language_info": {
   "codemirror_mode": {
    "name": "ipython",
    "version": 3
   },
   "file_extension": ".py",
   "mimetype": "text/x-python",
   "name": "python",
   "nbconvert_exporter": "python",
   "pygments_lexer": "ipython3",
   "version": "3.6.7"
  }
 },
 "nbformat": 4,
 "nbformat_minor": 2
}

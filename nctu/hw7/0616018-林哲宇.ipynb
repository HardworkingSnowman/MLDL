{
 "cells": [
  {
   "cell_type": "markdown",
   "metadata": {},
   "source": [
    "# HW7 - Keras for MNIST\n",
    "##### 負責助教：王培霖 barry84090371@gmail.com\n",
    "\n",
    "## Data - Modified National Institute of Standards and Technology(MNIST) database \n",
    "* Number of Instances: 60000\n",
    "* Number of Attributes: 28 * 28 numbers, which is bounded by [0,255] \n",
    "\n",
    "## 評分標準\n",
    "### 原始分數\n",
    "* 上課繳交：20%\n",
    "    * 在當天 16:20 前上傳至 new E3 作業，請將以下打包成 .zip 上傳：\n",
    "        * 程式原始檔 (.ipynb）\n",
    "        * 程式 .html 檔\n",
    "    * 並填寫表單上傳程式執行結果\n",
    "        * 請上傳 .html 檔案至表單\n",
    "        * __請統一檔名 <學號>-<姓名>.html__\n",
    "        * [表單連結](https://docs.google.com/forms/d/e/1FAIpQLSdlbNU_u9kb1QpCdXsgX42gx6UcRYCtVnX4E0xVlkjYyEOgug/viewform)\n",
    "* 程式分數：80%\n",
    "\n",
    "### 調整分數\n",
    "* 你的調整分數 = (你的原始分數 - 全部人原始分數平均) x (15. / 全部人原始分數標準差) + 80.\n",
    "\n",
    "* 學號 : 0616018\n",
    "* 姓名 : 林哲宇\n",
    "\n",
    "## Packages that Might Be Used"
   ]
  },
  {
   "cell_type": "code",
   "execution_count": 1,
   "metadata": {},
   "outputs": [
    {
     "name": "stderr",
     "output_type": "stream",
     "text": [
      "Using TensorFlow backend.\n"
     ]
    },
    {
     "name": "stdout",
     "output_type": "stream",
     "text": [
      "[name: \"/device:CPU:0\"\n",
      "device_type: \"CPU\"\n",
      "memory_limit: 268435456\n",
      "locality {\n",
      "}\n",
      "incarnation: 8762990625374429735\n",
      ", name: \"/device:XLA_CPU:0\"\n",
      "device_type: \"XLA_CPU\"\n",
      "memory_limit: 17179869184\n",
      "locality {\n",
      "}\n",
      "incarnation: 17448447742612091859\n",
      "physical_device_desc: \"device: XLA_CPU device\"\n",
      "]\n"
     ]
    }
   ],
   "source": [
    "import keras\n",
    "from keras.datasets import mnist\n",
    "from keras.models import Sequential\n",
    "from keras.layers import Dense, Dropout, LeakyReLU, Conv2D, Flatten, MaxPooling2D, Activation\n",
    "from keras.optimizers import RMSprop\n",
    "from keras import backend as K\n",
    "K.tensorflow_backend._get_available_gpus()\n",
    "from matplotlib.pyplot import imshow\n",
    "import numpy as np\n",
    "from tensorflow.python.client import device_lib\n",
    "print(device_lib.list_local_devices())"
   ]
  },
  {
   "cell_type": "markdown",
   "metadata": {},
   "source": [
    "## Data Preprocessing - 30%\n",
    "\n",
    "#### 助教幫你們吃進來，並且印出第十張 ------- 0%"
   ]
  },
  {
   "cell_type": "code",
   "execution_count": 2,
   "metadata": {},
   "outputs": [
    {
     "data": {
      "text/plain": [
       "<matplotlib.image.AxesImage at 0x7fc4fbd18fd0>"
      ]
     },
     "execution_count": 2,
     "metadata": {},
     "output_type": "execute_result"
    },
    {
     "data": {
      "image/png": "[encoded data removed]",
      "text/plain": [
       "<Figure size 432x288 with 1 Axes>"
      ]
     },
     "metadata": {
      "needs_background": "light"
     },
     "output_type": "display_data"
    }
   ],
   "source": [
    "(X_train, y_train), (X_test, y_test) = mnist.load_data()\n",
    "\n",
    "imshow(X_train[9])"
   ]
  },
  {
   "cell_type": "markdown",
   "metadata": {},
   "source": [
    "#### 1.使用shape函式印出x_train及x_test的大小 -------- 10%"
   ]
  },
  {
   "cell_type": "code",
   "execution_count": 3,
   "metadata": {},
   "outputs": [
    {
     "name": "stdout",
     "output_type": "stream",
     "text": [
      "(60000, 28, 28)\n",
      "(10000, 28, 28)\n"
     ]
    }
   ],
   "source": [
    "print(X_train.shape)\n",
    "print(X_test.shape)"
   ]
  },
  {
   "cell_type": "markdown",
   "metadata": {},
   "source": [
    "#### 2.使用reshape函式將x_train及x_test變為答案表示的樣子 -------- 10%"
   ]
  },
  {
   "cell_type": "code",
   "execution_count": 4,
   "metadata": {},
   "outputs": [
    {
     "name": "stdout",
     "output_type": "stream",
     "text": [
      "(60000, 784)\n",
      "(10000, 784)\n"
     ]
    }
   ],
   "source": [
    "X_train = X_train.reshape(60000, 784)\n",
    "X_test = X_test.reshape(10000, 784)\n",
    "print(X_train.shape)\n",
    "print(X_test.shape)"
   ]
  },
  {
   "cell_type": "markdown",
   "metadata": {},
   "source": [
    "#### 3.使用keras內建的onehot encoding將y_train及y_test變為binary的形式 -------- 10%    "
   ]
  },
  {
   "cell_type": "code",
   "execution_count": 5,
   "metadata": {},
   "outputs": [],
   "source": [
    "y_train_onehot = keras.utils.to_categorical(y_train)\n",
    "y_test_onehot = keras.utils.to_categorical(y_test)"
   ]
  },
  {
   "cell_type": "code",
   "execution_count": 6,
   "metadata": {},
   "outputs": [
    {
     "name": "stdout",
     "output_type": "stream",
     "text": [
      "[0. 0. 0. 0. 0. 1. 0. 0. 0. 0.]\n"
     ]
    }
   ],
   "source": [
    "print(y_train_onehot[0])"
   ]
  },
  {
   "cell_type": "markdown",
   "metadata": {},
   "source": [
    "![123](https://img-blog.csdn.net/20181020204437937?watermark/2/text/aHR0cHM6Ly9ibG9nLmNzZG4ubmV0L21veXUxMjM0NTY3ODk=/font/5a6L5L2T/fontsize/400/fill/I0JBQkFCMA==/dissolve/70)\n",
    "## Building NN - 30%\n",
    "\n",
    "#### 1. 建立一個類神經網路，其中：\n",
    "    (1)input為784元\n",
    "\n",
    "    (2)中間有兩層hidden layer，neuron數量都為20\n",
    "\n",
    "    (3)最後一層output為10元，active function請使用softmax\n",
    "\n",
    "    (4)最後使用summary函式來確認建好的NN模型\n",
    "    \n",
    "    p.s. 如果直接用LeakyReLU當參數丟進去時，會多兩層LeakyReLU是正常現象~\n",
    "\n",
    "Hint:\n",
    "\n",
    "[keras nn使用方法](https://keras.io/zh/getting-started/sequential-model-guide/)\n",
    "\n",
    "[keras激活函數](https://keras.io/zh/activations/#_3)"
   ]
  },
  {
   "cell_type": "code",
   "execution_count": 7,
   "metadata": {},
   "outputs": [
    {
     "name": "stdout",
     "output_type": "stream",
     "text": [
      "WARNING:tensorflow:From /usr/local/lib/python3.6/dist-packages/tensorflow/python/framework/op_def_library.py:263: colocate_with (from tensorflow.python.framework.ops) is deprecated and will be removed in a future version.\n",
      "Instructions for updating:\n",
      "Colocations handled automatically by placer.\n",
      "_________________________________________________________________\n",
      "Layer (type)                 Output Shape              Param #   \n",
      "=================================================================\n",
      "dense_1 (Dense)              (None, 20)                15700     \n",
      "_________________________________________________________________\n",
      "activation_1 (Activation)    (None, 20)                0         \n",
      "_________________________________________________________________\n",
      "dense_2 (Dense)              (None, 20)                420       \n",
      "_________________________________________________________________\n",
      "activation_2 (Activation)    (None, 20)                0         \n",
      "_________________________________________________________________\n",
      "dense_3 (Dense)              (None, 10)                210       \n",
      "_________________________________________________________________\n",
      "activation_3 (Activation)    (None, 10)                0         \n",
      "=================================================================\n",
      "Total params: 16,330\n",
      "Trainable params: 16,330\n",
      "Non-trainable params: 0\n",
      "_________________________________________________________________\n"
     ]
    }
   ],
   "source": [
    "model = Sequential([\n",
    "    Dense(20, input_shape=(784,)),\n",
    "    Activation('relu'),\n",
    "    Dense(20, input_shape=(21,)),\n",
    "    Activation('relu'),\n",
    "    Dense(10, input_shape=(21,)),\n",
    "    Activation('softmax')\n",
    "])\n",
    "model.summary()\n"
   ]
  },
  {
   "cell_type": "markdown",
   "metadata": {},
   "source": [
    "#### 2. 建好神經網路後，我們便要訓練我們的模型\n",
    "    (1)請先compile你的模型，使其變為可訓練，其中loss設為categorical_crossentropy，optimizer設為RMSprop()，metrics設為accuracy\n",
    "\n",
    "    (2)接著請fit你的模型，其中batch_size設為128，epochs數量先設為10，verbose設為1，validation_split設為0.2\n",
    "\n",
    "Hint:\n",
    "\n",
    "[Compile 和 fit 使用方法及參數調整](https://keras.io/zh/models/sequential/)"
   ]
  },
  {
   "cell_type": "code",
   "execution_count": 8,
   "metadata": {},
   "outputs": [
    {
     "name": "stdout",
     "output_type": "stream",
     "text": [
      "WARNING:tensorflow:From /usr/local/lib/python3.6/dist-packages/tensorflow/python/ops/math_ops.py:3066: to_int32 (from tensorflow.python.ops.math_ops) is deprecated and will be removed in a future version.\n",
      "Instructions for updating:\n",
      "Use tf.cast instead.\n",
      "Train on 48000 samples, validate on 12000 samples\n",
      "Epoch 1/10\n",
      "48000/48000 [==============================] - 1s 19us/step - loss: 8.9762 - acc: 0.4337 - val_loss: 6.2495 - val_acc: 0.5878\n",
      "Epoch 2/10\n",
      "48000/48000 [==============================] - 1s 18us/step - loss: 3.4297 - acc: 0.7636 - val_loss: 1.7643 - val_acc: 0.8707\n",
      "Epoch 3/10\n",
      "48000/48000 [==============================] - 1s 18us/step - loss: 1.7596 - acc: 0.8745 - val_loss: 1.4407 - val_acc: 0.8976\n",
      "Epoch 4/10\n",
      "48000/48000 [==============================] - 1s 17us/step - loss: 1.4554 - acc: 0.8968 - val_loss: 1.4473 - val_acc: 0.8961\n",
      "Epoch 5/10\n",
      "48000/48000 [==============================] - 1s 17us/step - loss: 1.2870 - acc: 0.9085 - val_loss: 1.0868 - val_acc: 0.9229\n",
      "Epoch 6/10\n",
      "48000/48000 [==============================] - 1s 17us/step - loss: 1.1844 - acc: 0.9165 - val_loss: 1.1048 - val_acc: 0.9208\n",
      "Epoch 7/10\n",
      "48000/48000 [==============================] - 1s 17us/step - loss: 1.1496 - acc: 0.9190 - val_loss: 1.0611 - val_acc: 0.9259\n",
      "Epoch 8/10\n",
      "48000/48000 [==============================] - 1s 17us/step - loss: 1.0586 - acc: 0.9262 - val_loss: 0.9837 - val_acc: 0.9313\n",
      "Epoch 9/10\n",
      "48000/48000 [==============================] - 1s 16us/step - loss: 1.0418 - acc: 0.9273 - val_loss: 0.9639 - val_acc: 0.9329\n",
      "Epoch 10/10\n",
      "48000/48000 [==============================] - 1s 16us/step - loss: 1.0090 - acc: 0.9301 - val_loss: 0.9039 - val_acc: 0.9378\n"
     ]
    },
    {
     "data": {
      "text/plain": [
       "<keras.callbacks.History at 0x7fc4fbc71940>"
      ]
     },
     "execution_count": 8,
     "metadata": {},
     "output_type": "execute_result"
    }
   ],
   "source": [
    "#Compile part\n",
    "model.compile(optimizer=RMSprop(), loss='categorical_crossentropy', metrics=['accuracy'])\n",
    "#fit part\n",
    "model.fit(x=X_train, y=y_train_onehot, epochs=10, batch_size=128, validation_split=0.2, verbose=1)"
   ]
  },
  {
   "cell_type": "markdown",
   "metadata": {},
   "source": [
    "#### 3. 建好的模型在test data的表現"
   ]
  },
  {
   "cell_type": "code",
   "execution_count": 9,
   "metadata": {},
   "outputs": [
    {
     "name": "stdout",
     "output_type": "stream",
     "text": [
      "10000/10000 [==============================] - 0s 19us/step\n",
      "acc: 0.9334\n"
     ]
    }
   ],
   "source": [
    "scores = model.evaluate(X_test, y_test_onehot)\n",
    "print('acc:',scores[1])"
   ]
  },
  {
   "cell_type": "markdown",
   "metadata": {},
   "source": [
    "## Building CNN - 30%\n",
    "\n",
    "#### 1. 建立一個類神經網路，其中：\n",
    "    (1)input為(60000,28,28,1)，所以各位要先把資料reshape成需要的格式\n",
    "\n",
    "    (2)中間的層數請看範例，一層一層疊上去\n",
    "\n",
    "    (3)其中卷積層filter=16, kernel_size=(3,3), padding='same', input_shape(28,28,1), actication幫我設relu\n",
    "\n",
    "    (4)Maxpooling size 為 (2,2)\n",
    "    \n",
    "    (5)dropout 0.25\n",
    "    \n",
    "    (6)做完卷積層要記得flatten，走NN，其中neuron數量為128，activation幫我設relu\n",
    "    \n",
    "    (7)dropout 0.5\n",
    "    \n",
    "    (8)output layer一樣單元數為10，activation function幫我設softmax\n",
    "\n",
    "Hint:\n",
    "\n",
    "[MaxPooling2D](https://keras.io/zh/layers/pooling/)\n",
    "\n",
    "[Conv2D](https://keras.io/zh/layers/convolutional/)"
   ]
  },
  {
   "cell_type": "code",
   "execution_count": 10,
   "metadata": {
    "scrolled": true
   },
   "outputs": [
    {
     "name": "stdout",
     "output_type": "stream",
     "text": [
      "WARNING:tensorflow:From /usr/local/lib/python3.6/dist-packages/keras/backend/tensorflow_backend.py:3445: calling dropout (from tensorflow.python.ops.nn_ops) with keep_prob is deprecated and will be removed in a future version.\n",
      "Instructions for updating:\n",
      "Please use `rate` instead of `keep_prob`. Rate should be set to `rate = 1 - keep_prob`.\n",
      "_________________________________________________________________\n",
      "Layer (type)                 Output Shape              Param #   \n",
      "=================================================================\n",
      "conv2d_1 (Conv2D)            (None, 28, 28, 16)        160       \n",
      "_________________________________________________________________\n",
      "max_pooling2d_1 (MaxPooling2 (None, 14, 14, 16)        0         \n",
      "_________________________________________________________________\n",
      "dropout_1 (Dropout)          (None, 14, 14, 16)        0         \n",
      "_________________________________________________________________\n",
      "flatten_1 (Flatten)          (None, 3136)              0         \n",
      "_________________________________________________________________\n",
      "dense_4 (Dense)              (None, 128)               401536    \n",
      "_________________________________________________________________\n",
      "activation_4 (Activation)    (None, 128)               0         \n",
      "_________________________________________________________________\n",
      "dropout_2 (Dropout)          (None, 128)               0         \n",
      "_________________________________________________________________\n",
      "dense_5 (Dense)              (None, 10)                1290      \n",
      "_________________________________________________________________\n",
      "activation_5 (Activation)    (None, 10)                0         \n",
      "=================================================================\n",
      "Total params: 402,986\n",
      "Trainable params: 402,986\n",
      "Non-trainable params: 0\n",
      "_________________________________________________________________\n"
     ]
    }
   ],
   "source": [
    "x_train = X_train.reshape(60000,28,28,1)\n",
    "x_test = X_test.reshape(10000,28,28,1)\n",
    "\n",
    "model = Sequential()  \n",
    "\n",
    "# Create CN layer 1  \n",
    "model.add(Conv2D(filters=16, kernel_size=(3,3), padding='same', input_shape=(28,28,1), activation='relu'))\n",
    "\n",
    "# Create Max-Pool 1  \n",
    "model.add(MaxPooling2D(pool_size = (2, 2)))\n",
    "  \n",
    "# Add Dropout layer  \n",
    "model.add(Dropout(rate=0.25))\n",
    "\n",
    "#Add Flatten Layer\n",
    "model.add(Flatten())\n",
    "\n",
    "#Add NN Layer\n",
    "model.add(Dense(128))\n",
    "model.add(Activation('relu'))\n",
    "\n",
    "# Add Dropout layer  \n",
    "model.add(Dropout(rate=0.5))\n",
    "\n",
    "#Add Output Layer \n",
    "model.add(Dense(10))\n",
    "model.add(Activation('softmax'))\n",
    "\n",
    "model.summary()  "
   ]
  },
  {
   "cell_type": "markdown",
   "metadata": {},
   "source": [
    "#### 2. 建好神經網路後，我們便要訓練我們的模型\n",
    "    (1)請先compile你的模型，使其變為可訓練，其中loss設為categorical_crossentropy，optimizer設為adam，metrics設為accuracy\n",
    "\n",
    "    (2)接著請fit你的模型，其中batch_size設為128，epochs數量先設為10，verbose設為1，validation_split設為0.2\n",
    "\n",
    "Hint:\n",
    "\n",
    "[Compile 和 fit 使用方法及參數調整](https://keras.io/zh/models/sequential/)"
   ]
  },
  {
   "cell_type": "code",
   "execution_count": 11,
   "metadata": {},
   "outputs": [
    {
     "name": "stdout",
     "output_type": "stream",
     "text": [
      "Train on 48000 samples, validate on 12000 samples\n",
      "Epoch 1/10\n",
      "48000/48000 [==============================] - 16s 329us/step - loss: 6.2746 - acc: 0.5923 - val_loss: 1.1469 - val_acc: 0.9131\n",
      "Epoch 2/10\n",
      "48000/48000 [==============================] - 16s 325us/step - loss: 1.1375 - acc: 0.8592 - val_loss: 0.2488 - val_acc: 0.9452\n",
      "Epoch 3/10\n",
      "48000/48000 [==============================] - 15s 315us/step - loss: 0.4432 - acc: 0.8895 - val_loss: 0.1702 - val_acc: 0.9567\n",
      "Epoch 4/10\n",
      "48000/48000 [==============================] - 15s 313us/step - loss: 0.3182 - acc: 0.9151 - val_loss: 0.1263 - val_acc: 0.9674\n",
      "Epoch 5/10\n",
      "48000/48000 [==============================] - 15s 308us/step - loss: 0.2533 - acc: 0.9285 - val_loss: 0.1134 - val_acc: 0.9716\n",
      "Epoch 6/10\n",
      "48000/48000 [==============================] - 15s 311us/step - loss: 0.2160 - acc: 0.9377 - val_loss: 0.0931 - val_acc: 0.9744\n",
      "Epoch 7/10\n",
      "48000/48000 [==============================] - 15s 312us/step - loss: 0.1850 - acc: 0.9462 - val_loss: 0.0918 - val_acc: 0.9762\n",
      "Epoch 8/10\n",
      "48000/48000 [==============================] - 15s 314us/step - loss: 0.1696 - acc: 0.9501 - val_loss: 0.0897 - val_acc: 0.9763\n",
      "Epoch 9/10\n",
      "48000/48000 [==============================] - 16s 323us/step - loss: 0.1536 - acc: 0.9554 - val_loss: 0.0745 - val_acc: 0.9791\n",
      "Epoch 10/10\n",
      "48000/48000 [==============================] - 15s 323us/step - loss: 0.1369 - acc: 0.9590 - val_loss: 0.0742 - val_acc: 0.9812\n"
     ]
    },
    {
     "data": {
      "text/plain": [
       "<keras.callbacks.History at 0x7fc48e296e48>"
      ]
     },
     "execution_count": 11,
     "metadata": {},
     "output_type": "execute_result"
    }
   ],
   "source": [
    "#Compile part\n",
    "model.compile(optimizer='adam', loss='categorical_crossentropy', metrics=['accuracy'])\n",
    "\n",
    "#fit part\n",
    "model.fit(x=x_train, y=y_train_onehot, epochs=10, batch_size=128, validation_split=0.2, verbose=1)"
   ]
  },
  {
   "cell_type": "markdown",
   "metadata": {},
   "source": [
    "#### 3. 建好的模型在test data的表現"
   ]
  },
  {
   "cell_type": "code",
   "execution_count": 12,
   "metadata": {},
   "outputs": [
    {
     "name": "stdout",
     "output_type": "stream",
     "text": [
      "10000/10000 [==============================] - 1s 125us/step\n",
      "acc: 0.9791\n"
     ]
    }
   ],
   "source": [
    "scores = model.evaluate(x_test, y_test_onehot)\n",
    "print('acc:',scores[1])"
   ]
  },
  {
   "cell_type": "markdown",
   "metadata": {},
   "source": [
    "# Result\n",
    "助教幫你們把Confusion matrix印出來"
   ]
  },
  {
   "cell_type": "code",
   "execution_count": 13,
   "metadata": {},
   "outputs": [
    {
     "name": "stdout",
     "output_type": "stream",
     "text": [
      "\t[Info] Display Confusion Matrix:\n",
      "predict    0     1     2    3    4    5    6     7    8    9\n",
      "label                                                       \n",
      "0        971     0     1    0    0    0    3     2    3    0\n",
      "1          0  1120     5    1    0    1    2     1    5    0\n",
      "2          1     1  1018    3    0    0    1     7    1    0\n",
      "3          1     0     3  998    0    3    0     4    1    0\n",
      "4          1     0     2    0  958    0    4     0    2   15\n",
      "5          2     0     0    7    0  874    5     1    2    1\n",
      "6          7     2     1    0    6    4  936     0    2    0\n",
      "7          1     3    12    1    2    0    0  1006    1    2\n",
      "8          3     0     3    4    2    6    4     9  937    6\n",
      "9          6     5     1    8    4    0    0    10    2  973\n",
      "\n"
     ]
    }
   ],
   "source": [
    "prediction = model.predict_classes(x_test)\n",
    "import pandas as pd  \n",
    "print(\"\\t[Info] Display Confusion Matrix:\")  \n",
    "print(\"%s\\n\" % pd.crosstab(y_test, prediction, rownames=['label'], colnames=['predict'])) "
   ]
  },
  {
   "cell_type": "markdown",
   "metadata": {},
   "source": [
    "# BONUS - 10%\n",
    "## test data acc達到99.5以上，助教給你加分分\n",
    "## 恭喜各位寫完全部的作業，但別忘記還有期末專題歐~\n",
    "\n",
    "![一個人](https://i.imgur.com/yrZnaCR.gif)\n",
    "# 上課心得or給助教的話XD\n",
    "* ans"
   ]
  },
  {
   "cell_type": "code",
   "execution_count": null,
   "metadata": {},
   "outputs": [],
   "source": []
  }
 ],
 "metadata": {
  "kernelspec": {
   "display_name": "Python 3",
   "language": "python",
   "name": "python3"
  },
  "language_info": {
   "codemirror_mode": {
    "name": "ipython",
    "version": 3
   },
   "file_extension": ".py",
   "mimetype": "text/x-python",
   "name": "python",
   "nbconvert_exporter": "python",
   "pygments_lexer": "ipython3",
   "version": "3.6.7"
  }
 },
 "nbformat": 4,
 "nbformat_minor": 2
}

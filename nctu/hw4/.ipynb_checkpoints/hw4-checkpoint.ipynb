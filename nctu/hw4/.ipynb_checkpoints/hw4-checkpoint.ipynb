{
 "cells": [
  {
   "cell_type": "markdown",
   "metadata": {},
   "source": [
    "# HW4 - KNN Classifier\n",
    "##### 負責助教：王培霖 barry84090371@gmail.com\n",
    "\n",
    "這次的作業將帶大家實做KNN模型，用一些健康報告來判斷此人是否患有糖尿病\n",
    "\n",
    "## 資料簡介\n",
    "\n",
    "The datasets consist of several medical predictor (independent) variables and one target (dependent) variable, Outcome. Independent variables include the number of pregnancies the patient has had, their BMI, insulin level, age, and so on.\n",
    "\n",
    "資料來源：UCI Machine Learning\n",
    "\n",
    "## 參數介紹\n",
    "### Feature\n",
    "   * Pregnancies：Number of times pregnant\n",
    "   * Glucose：Plasma glucose concentration a 2 hours in an oral glucose tolerance test\n",
    "   * BloodPressure：Diastolic blood pressure (mm Hg)\n",
    "   * SkinThickness：Triceps skin fold thickness (mm)\n",
    "   * Insulin：2-Hour serum insulin (mu U/ml)\n",
    "   * BMIBody：mass index (weight in kg/(height in m)^2)\n",
    "   * DiabetesPedigreeFunction：Diabetes pedigree function\n",
    "   * Age：Age (years)\n",
    "\n",
    "### Target\n",
    "   * Outcome：Class variable (0 or 1) 268 of 768 are 1, the others are 0\n",
    "\n",
    "## 評分標準\n",
    "### 原始分數\n",
    "* 上課繳交：20%\n",
    "    * 在當天 16:20 前上傳至 new E3 作業，請將以下打包成 .zip 上傳：\n",
    "        * 程式原始檔 (.ipynb）\n",
    "        * 程式 .html 檔\n",
    "    * 並填寫表單上傳程式執行結果\n",
    "        * 請上傳 .html 檔案至表單\n",
    "        * __請統一檔名 <學號>-<姓名>.html__\n",
    "        * [表單連結](https://docs.google.com/forms/d/e/1FAIpQLSdlbNU_u9kb1QpCdXsgX42gx6UcRYCtVnX4E0xVlkjYyEOgug/viewform)\n",
    "* 程式分數：80%\n",
    "\n",
    "### 調整分數\n",
    "* 你的調整分數 = (你的原始分數 - 全部人原始分數平均) x (15. / 全部人原始分數標準差) + 80."
   ]
  },
  {
   "cell_type": "markdown",
   "metadata": {},
   "source": [
    "#### 姓名：林哲宇\n",
    "#### 學號：0616018"
   ]
  },
  {
   "cell_type": "markdown",
   "metadata": {},
   "source": [
    "## Packages that Might Be Used"
   ]
  },
  {
   "cell_type": "code",
   "execution_count": 24,
   "metadata": {},
   "outputs": [],
   "source": [
    "import numpy as np\n",
    "import pandas as pd\n",
    "import re\n",
    "from sklearn.preprocessing import Normalizer\n",
    "from sklearn.model_selection import train_test_split\n",
    "from sklearn.decomposition import PCA\n",
    "from sklearn.metrics import classification_report, confusion_matrix\n",
    "from sklearn.neighbors import KNeighborsClassifier\n",
    "import matplotlib.pyplot as plt\n",
    "from sklearn import metrics\n",
    "from matplotlib.colors import ListedColormap\n",
    "%matplotlib inline"
   ]
  },
  {
   "cell_type": "markdown",
   "metadata": {},
   "source": [
    "### 相關連結\n",
    "\n",
    "* Packages\n",
    "    * [numpy](http://www.numpy.org/)\n",
    "    * [pandas](https://pandas.pydata.org/)\n",
    "    * [train_test_split](https://scikit-learn.org/stable/modules/generated/sklearn.model_selection.train_test_split.html)\n",
    "    * [PCA](https://scikit-learn.org/stable/modules/generated/sklearn.decomposition.PCA.html)\n",
    "    * [KNeighborsClassifier](https://scikit-learn.org/stable/modules/generated/sklearn.neighbors.KNeighborsClassifier.html#sklearn.neighbors.KNeighborsClassifier.kneighbors_graph)\n",
    "    * [classification_report](https://scikit-learn.org/stable/modules/generated/sklearn.metrics.classification_report.html)\n",
    "    * [confusion_matrix](https://scikit-learn.org/stable/modules/generated/sklearn.metrics.confusion_matrix.html)\n",
    "    * [pyplot](https://matplotlib.org/tutorials/introductory/pyplot.html)\n",
    "* Markdown\n",
    "    * jupyter 可以支援 markdown 區塊，方便打上文字說明此份 notebook 在做的事情\n",
    "    * [wiki](https://zh.wikipedia.org/wiki/Markdown)\n",
    "    * [教學](https://markdown.tw/)"
   ]
  },
  {
   "cell_type": "markdown",
   "metadata": {},
   "source": [
    "## Load data - 10%\n",
    "### 回答問題 - 10%\n",
    "\n",
    "請簡述以下問題，將ans取代為你的答案\n",
    "\n",
    "1. x後面參數的意思為何?  - 5%\n",
    "    * 從第一欄到倒數第二欄\n",
    "2. y後面參數的意思為何? - 5%\n",
    "    * 最後一欄"
   ]
  },
  {
   "cell_type": "code",
   "execution_count": 19,
   "metadata": {},
   "outputs": [
    {
     "name": "stdout",
     "output_type": "stream",
     "text": [
      "0      1\n",
      "1      0\n",
      "2      1\n",
      "3      0\n",
      "4      1\n",
      "5      0\n",
      "6      1\n",
      "7      0\n",
      "8      1\n",
      "9      1\n",
      "10     0\n",
      "11     1\n",
      "12     0\n",
      "13     1\n",
      "14     1\n",
      "15     1\n",
      "16     1\n",
      "17     1\n",
      "18     0\n",
      "19     1\n",
      "20     0\n",
      "21     0\n",
      "22     1\n",
      "23     1\n",
      "24     1\n",
      "25     1\n",
      "26     1\n",
      "27     0\n",
      "28     0\n",
      "29     0\n",
      "      ..\n",
      "738    0\n",
      "739    1\n",
      "740    1\n",
      "741    0\n",
      "742    0\n",
      "743    1\n",
      "744    0\n",
      "745    0\n",
      "746    1\n",
      "747    0\n",
      "748    1\n",
      "749    1\n",
      "750    1\n",
      "751    0\n",
      "752    0\n",
      "753    1\n",
      "754    1\n",
      "755    1\n",
      "756    0\n",
      "757    1\n",
      "758    0\n",
      "759    1\n",
      "760    0\n",
      "761    1\n",
      "762    0\n",
      "763    0\n",
      "764    0\n",
      "765    0\n",
      "766    1\n",
      "767    0\n",
      "Name: Outcome, Length: 768, dtype: int64\n"
     ]
    }
   ],
   "source": [
    "df = pd.read_csv('diabetes.csv')\n",
    "index_name = df.columns.values\n",
    "\n",
    "X = df.iloc[:,:-1]\n",
    "y = df.iloc[:,-1]"
   ]
  },
  {
   "cell_type": "markdown",
   "metadata": {},
   "source": [
    "## Statistics - 10%\n",
    "### 回答問題 - 10%\n",
    "\n",
    "請簡述以下問題，將ans取代為你的答案\n",
    "\n",
    "1. y做的這個function功能為何? 印出的結果代表甚麼?  - 10%\n",
    "    * iloc 是把需要的 column 與 row 取出來，前面的 : 代表所有的 row，後面的 -1 代表只要最後一個 column，所以 df.iloc[:,-1] 的意思是取出 df 中 index 的最後一項，也就是 Outcome，並且把所有的 row 取出來"
   ]
  },
  {
   "cell_type": "code",
   "execution_count": 3,
   "metadata": {},
   "outputs": [
    {
     "data": {
      "text/plain": [
       "0    500\n",
       "1    268\n",
       "Name: Outcome, dtype: int64"
      ]
     },
     "execution_count": 3,
     "metadata": {},
     "output_type": "execute_result"
    }
   ],
   "source": [
    "y.value_counts()"
   ]
  },
  {
   "cell_type": "markdown",
   "metadata": {},
   "source": [
    "## Preprocessing - 10%\n",
    "### 回答問題 - 10%\n",
    "\n",
    "請簡述以下問題，將ans取代為你的答案\n",
    "\n",
    "1. 請解釋train_test_split功能(包含後面的參數)以及為何要做這個步驟? - 10%\n",
    "    * train_test_split 是用來把現有資料順序打亂並分成 training data 和 testing data，第一個參數代表 Feature; 第二個參數代表 Target，第三個參數代表 testing data 的比例，最後一個代表亂數子(random seed)。做此動作是為了分配測試資料以及讓資料分布不會過度偏激"
   ]
  },
  {
   "cell_type": "code",
   "execution_count": 14,
   "metadata": {},
   "outputs": [
    {
     "name": "stdout",
     "output_type": "stream",
     "text": [
      "[[0.01440329 0.58333329 0.51851848 ... 0.21676953 0.0039393  0.18004114]\n",
      " [0.01573388 0.53495178 0.55068566 ... 0.19667345 0.00147112 0.19667345]\n",
      " [0.02458621 0.63572924 0.29503456 ... 0.12609215 0.00205822 0.17912813]\n",
      " ...\n",
      " [0.         0.5984622  0.36828443 ... 0.15997355 0.00261252 0.13235222]\n",
      " [0.00713172 0.80588455 0.45643018 ... 0.23962585 0.00387252 0.14976615]\n",
      " [0.01455946 0.46954273 0.21839197 ... 0.10009632 0.00191821 0.11283585]]\n"
     ]
    }
   ],
   "source": [
    "X_train, X_test, y_train, y_test = train_test_split(X, y, test_size = 0.2, random_state=43)\n",
    "\n",
    "transformer = Normalizer().fit(X_train)\n",
    "X_train = transformer.transform(X_train)\n",
    "X_test = transformer.transform(X_test)"
   ]
  },
  {
   "cell_type": "markdown",
   "metadata": {},
   "source": [
    "## Training - 70%\n",
    "### KNN - 25%\n",
    "### 1.請建立50個KNN模型，令k=1~50\n",
    "### 2.畫出以每個K值(x軸)對準確率(y軸)的圖表\n",
    "### 3.印出準確率及準確率最高的k"
   ]
  },
  {
   "cell_type": "code",
   "execution_count": 25,
   "metadata": {},
   "outputs": [
    {
     "data": {
      "image/png": "[encoded data removed]",
      "text/plain": [
       "<Figure size 432x288 with 1 Axes>"
      ]
     },
     "metadata": {
      "needs_background": "light"
     },
     "output_type": "display_data"
    },
    {
     "name": "stdout",
     "output_type": "stream",
     "text": [
      "('k for max acc:', 14, '\\nMax acc:', 0.7077922077922078)\n"
     ]
    }
   ],
   "source": [
    "num_of_neighbor = [i for i in range(1,50)]\n",
    "acc = []\n",
    "for i in num_of_neighbor:\n",
    "    neigh = KNeighborsClassifier(n_neighbors=i)\n",
    "    neigh.fit(X_train, y_train)\n",
    "    acc.append(metrics.accuracy_score(y_test, neigh.predict(X_test)))\n",
    "    \n",
    "plt.plot(num_of_neighbor,acc)\n",
    "plt.show()\n",
    "print('k for max acc:',acc.index(max(acc)),'\\nMax acc:',max(acc))\n"
   ]
  },
  {
   "cell_type": "markdown",
   "metadata": {},
   "source": [
    "### 4.畫出KNN模型的 Confuxsion Matrix 並將 Classification Report印出 - 5%\n",
    "Hint - 以下 function 取自[連結](https://scikit-learn.org/stable/auto_examples/model_selection/plot_confusion_matrix.html#sphx-glr-auto-examples-model-selection-plot-confusion-matrix-py)，可以將 confusion matrix 畫出"
   ]
  },
  {
   "cell_type": "code",
   "execution_count": 27,
   "metadata": {},
   "outputs": [],
   "source": [
    "from sklearn.utils.multiclass import unique_labels\n",
    "\n",
    "def plot_confusion_matrix(confusion_matrix, classes,\n",
    "                          normalize=False,\n",
    "                          title=None,\n",
    "                          cmap=plt.cm.Blues):\n",
    "    \"\"\"\n",
    "    This function prints and plots the confusion matrix.\n",
    "    Normalization can be applied by setting `normalize=True`.\n",
    "    \"\"\"\n",
    "    if not title:\n",
    "        if normalize:\n",
    "            title = 'Normalized confusion matrix'\n",
    "        else:\n",
    "            title = 'Confusion matrix, without normalization'\n",
    "\n",
    "    # Compute confusion matrix\n",
    "    cm = confusion_matrix\n",
    "    if normalize:\n",
    "        cm = cm.astype('float') / cm.sum(axis=1)[:, np.newaxis]\n",
    "        print(\"Normalized confusion matrix\")\n",
    "    else:\n",
    "        print('Confusion matrix, without normalization')\n",
    "\n",
    "    fig, ax = plt.subplots(figsize=(20, 10))\n",
    "    im = ax.imshow(cm, interpolation='nearest', cmap=cmap)\n",
    "    ax.figure.colorbar(im, ax=ax)\n",
    "    # We want to show all ticks...\n",
    "    ax.set(xticks=np.arange(cm.shape[1]),\n",
    "           yticks=np.arange(cm.shape[0]),\n",
    "           # ... and label them with the respective list entries\n",
    "           xticklabels=classes, yticklabels=classes,\n",
    "           title=title,\n",
    "           ylabel='True label',\n",
    "           xlabel='Predicted label')\n",
    "\n",
    "    # Rotate the tick labels and set their alignment.\n",
    "    plt.setp(ax.get_xticklabels(), rotation=45, ha=\"right\",\n",
    "             rotation_mode=\"anchor\")\n",
    "\n",
    "    # Loop over data dimensions and create text annotations.\n",
    "    fmt = '.2f' if normalize else 'd'\n",
    "    thresh = cm.max() / 2.\n",
    "    for i in range(cm.shape[0]):\n",
    "        for j in range(cm.shape[1]):\n",
    "            ax.text(j, i, format(cm[i, j], fmt),\n",
    "                    ha=\"center\", va=\"center\",\n",
    "                    color=\"white\" if cm[i, j] > thresh else \"black\")\n",
    "    fig.tight_layout()\n",
    "    plt.show()"
   ]
  },
  {
   "cell_type": "code",
   "execution_count": 28,
   "metadata": {},
   "outputs": [
    {
     "name": "stdout",
     "output_type": "stream",
     "text": [
      "Confusion matrix, without normalization\n"
     ]
    },
    {
     "data": {
      "image/png": "[encoded data removed]",
      "text/plain": [
       "<Figure size 1440x720 with 2 Axes>"
      ]
     },
     "metadata": {
      "needs_background": "light"
     },
     "output_type": "display_data"
    }
   ],
   "source": [
    "neigh = KNeighborsClassifier(n_neighbors=14)\n",
    "neigh.fit(X_train,y_train)\n",
    "y_pred = neigh.predict(X_test)\n",
    "plot_confusion_matrix(confusion_matrix(y_test, y_pred, ), [0,1])"
   ]
  },
  {
   "cell_type": "markdown",
   "metadata": {},
   "source": [
    "### 5.PCA -> KNN - 30%\n",
    "先用PCA將data降至j維(j為1~8)，再將其作KNN並觀察正確率(可以拿上面寫好的KNN來用!)所以這裡其實只要寫PCA就好"
   ]
  },
  {
   "cell_type": "code",
   "execution_count": null,
   "metadata": {},
   "outputs": [],
   "source": [
    "for j in range(1,9):\n",
    "    '''Your code here'''\n"
   ]
  },
  {
   "cell_type": "markdown",
   "metadata": {},
   "source": [
    "### 6.選兩個最能分出兩種類別的X，將圖印出後紀錄a,b是哪兩個colunm - 10%\n",
    "想了解的同學請前往以下[連結](https://scikit-learn.org/stable/auto_examples/neighbors/plot_classification.html#sphx-glr-auto-examples-neighbors-plot-classification-py)"
   ]
  },
  {
   "cell_type": "code",
   "execution_count": null,
   "metadata": {},
   "outputs": [],
   "source": [
    "def decision_boundry(X,y,a,b):\n",
    "\n",
    "    X = df.iloc[:,[a,b]]\n",
    "    X = np.array(X)\n",
    "    h= 1\n",
    "\n",
    "\n",
    "    cmap_light = ListedColormap(['#FFAAAA', '#AAFFAA'])\n",
    "    cmap_bold = ListedColormap(['#FF0000', '#00FF00'])\n",
    "\n",
    "    clf = KNeighborsClassifier(n_neighbors=14)\n",
    "    clf.fit(X, y)\n",
    "\n",
    "    # Plot the decision boundary. For that, we will assign a color to each\n",
    "    # point in the mesh [x_min, x_max]x[y_min, y_max].\n",
    "    x_min, x_max = X[:, 0].min() - 1, X[:, 0].max() + 1\n",
    "    y_min, y_max = X[:, 1].min() - 1, X[:, 1].max() + 1\n",
    "    xx, yy = np.meshgrid(np.arange(x_min, x_max, h),\n",
    "                         np.arange(y_min, y_max, h))\n",
    "\n",
    "    Z = clf.predict(np.c_[xx.ravel(), yy.ravel()])\n",
    "\n",
    "    # Put the result into a color plot\n",
    "    Z = Z.reshape(xx.shape)\n",
    "    plt.figure()\n",
    "    plt.pcolormesh(xx, yy, Z, cmap=cmap_light)\n",
    "\n",
    "    # Plot also the training points\n",
    "    plt.scatter(X[:, 0], X[:, 1], c=y, cmap=cmap_bold,\n",
    "                edgecolor='k', s=20)\n",
    "    plt.xlim(xx.min(), xx.max())\n",
    "    plt.ylim(yy.min(), yy.max())\n",
    "    plt.title(\"2-Class classification (k = %i, weights = '%s')\"\n",
    "              % (14, 'MLE'))\n",
    "\n",
    "    plt.show()\n"
   ]
  },
  {
   "cell_type": "code",
   "execution_count": null,
   "metadata": {},
   "outputs": [],
   "source": [
    "'''Choose the most fit number'''\n",
    "decision_boundry(X,y,1,3)"
   ]
  },
  {
   "cell_type": "code",
   "execution_count": null,
   "metadata": {},
   "outputs": [],
   "source": []
  }
 ],
 "metadata": {
  "kernelspec": {
   "display_name": "Python 2",
   "language": "python",
   "name": "python2"
  },
  "language_info": {
   "codemirror_mode": {
    "name": "ipython",
    "version": 2
   },
   "file_extension": ".py",
   "mimetype": "text/x-python",
   "name": "python",
   "nbconvert_exporter": "python",
   "pygments_lexer": "ipython2",
   "version": "2.7.12"
  }
 },
 "nbformat": 4,
 "nbformat_minor": 2
}
